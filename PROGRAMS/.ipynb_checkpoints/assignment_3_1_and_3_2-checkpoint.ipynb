{
 "cells": [
  {
   "cell_type": "markdown",
   "id": "9982c748-537a-4e01-a21a-f6e47acfec55",
   "metadata": {},
   "source": [
    "# Student Name: Ferreira da Silva LUCAS\n",
    "# Student No.: 2311328\n",
    "# Laboratory: Optical Media Interface Lab"
   ]
  },
  {
   "cell_type": "markdown",
   "id": "90be95e1-3fe9-4b37-bf39-76059f46c504",
   "metadata": {},
   "source": [
    "# Exercise 3.1: Basics of pivot calibration"
   ]
  },
  {
   "cell_type": "markdown",
   "id": "7cb6bb8e-f39c-4ea8-807e-fb399624e15c",
   "metadata": {},
   "source": [
    "## 1 - Create a set of functions to perform rotation and coordinate transformation of a point in 3D space."
   ]
  },
  {
   "cell_type": "code",
   "execution_count": 1,
   "id": "5b64722c-6b8b-45bc-b3f6-ce2169a72b26",
   "metadata": {},
   "outputs": [],
   "source": [
    "# Lucas\n",
    "# All imports go here\n",
    "\n",
    "import numpy as np\n",
    "import os"
   ]
  },
  {
   "cell_type": "code",
   "execution_count": 2,
   "id": "8412c1c5-eb16-4082-ab29-568edd48430f",
   "metadata": {},
   "outputs": [],
   "source": [
    "# Lucas - 2024/01/16\n",
    "# Define functions to rotate a point given a rotataion_matrix and\n",
    "# to transform a point (rotate + translate)\n",
    "# based on: https://docs.scipy.org/doc/scipy/reference/generated/scipy.spatial.transform.Rotation.html\n",
    "def rotate_point(point, rotation_matrix):\n",
    "    \"\"\"\n",
    "    Rotate a point in 3D space.\n",
    "    \n",
    "    \"\"\"\n",
    "    return np.dot(rotation_matrix, point)\n",
    "\n",
    "def transform_point(point, rotation_matrix, translation_vector):\n",
    "    \"\"\"\n",
    "    Apply rotation and translation to a point in 3D space.\n",
    "    \n",
    "    \"\"\"\n",
    "    return rotate_point(point, rotation_matrix) + translation_vector"
   ]
  },
  {
   "cell_type": "markdown",
   "id": "d74aec7d-9c08-4e00-bf75-0053fcc0d4a9",
   "metadata": {},
   "source": [
    "## 2 - Find the position [Rk,tk] (Rk: 3×3 rotation matrix, tk: 3×1 translation vector) of the object coordinate system with respect to the camera coordinate system from 𝑨j,k (j-th LED marker measured at frame k)."
   ]
  },
  {
   "cell_type": "code",
   "execution_count": 3,
   "id": "4d795f98-e391-46dc-a198-6205ddbdc8df",
   "metadata": {},
   "outputs": [],
   "source": [
    "# Lucas - 2024/01/16\n",
    "# Firstly, read the marker data from the txt file provided\n",
    "# Based on: https://hackernoon.com/how-to-read-text-file-in-python\n",
    "def read_marker_data(file_path, num_leds_per_frame=4):\n",
    "    \"\"\"\n",
    "    Read the marker data from the file and organize it into frames.\n",
    "\n",
    "    \"\"\"\n",
    "    with open(file_path, 'r') as file:\n",
    "        lines = file.readlines()[1:]  # Skip header (1st line of txt)\n",
    "\n",
    "    # Each line contains three coordinates separated by whitespace\n",
    "    data = np.array([list(map(float, line.split())) for line in lines])\n",
    "    \n",
    "    return data.reshape(-1, num_leds_per_frame, 3)  # Reshape into [frame, marker, coordinate]\n",
    "\n",
    "# Lucas - 2024/01/16\n",
    "# Then, define the rotation matix and translation vector\n",
    "# Based on: https://dfki-ric.github.io/pytransform3d/rotations.html\n",
    "# and https://sigmoidal.ai/en/matrix-transformations-and-coordinate-systems-with-python/\n",
    "def calculate_rk_tk(frames):\n",
    "    \"\"\"\n",
    "    Calculate the rotation matrices and translation vectors for each frame.\n",
    "\n",
    "    \"\"\"\n",
    "    rotation_matrices = []\n",
    "    translation_vectors = []\n",
    "\n",
    "    for frame in frames:\n",
    "        p1, p2, p3, p4 = frame  # Extract points, they are aligned with xyz-axis\n",
    "\n",
    "        # Calculate the basis vectors\n",
    "        x_axis = p2 - p1\n",
    "        y_axis = p3 - p1\n",
    "        z_axis = p4 - p1\n",
    "\n",
    "        # Normalize the vectors to define the ortonormal basis\n",
    "        # based on: https://numpy.org/doc/stable/reference/generated/numpy.linalg.norm.html\n",
    "        x_axis /= np.linalg.norm(x_axis)\n",
    "        y_axis /= np.linalg.norm(y_axis)\n",
    "        z_axis /= np.linalg.norm(z_axis)\n",
    "\n",
    "        # Form the rotation matrix\n",
    "        rotation_matrix = np.column_stack([x_axis, y_axis, z_axis])\n",
    "        rotation_matrices.append(rotation_matrix)\n",
    "\n",
    "        # Translation vector is the position of P1\n",
    "        translation_vectors.append(p1)\n",
    "\n",
    "    return rotation_matrices, translation_vectors"
   ]
  },
  {
   "cell_type": "code",
   "execution_count": 4,
   "id": "947c12b4-b60f-4b36-9849-758ca5d2839c",
   "metadata": {},
   "outputs": [
    {
     "name": "stdout",
     "output_type": "stream",
     "text": [
      "Transformed Point in Camera Coordinate System: [507.48205231 419.78306377 196.23776899]\n"
     ]
    }
   ],
   "source": [
    "# Lucas - 2024/01/16\n",
    "# Load data\n",
    "file_path = '../Assignment3/pa1-1-tracker-05.txt'\n",
    "frames = read_marker_data(file_path)\n",
    "# Get rotation and translation -> Rk and tk!!!\n",
    "rotation_matrices, translation_vectors = calculate_rk_tk(frames)\n",
    "\n",
    "# Test an example point in the object coordinate system\n",
    "point_in_object_coords = np.array([100, 0, 0])\n",
    "transformed_point = transform_point(point_in_object_coords, rotation_matrices[0], translation_vectors[0])\n",
    "\n",
    "print(\"Transformed Point in Camera Coordinate System:\", transformed_point)"
   ]
  },
  {
   "cell_type": "markdown",
   "id": "752f9036-7281-4d7f-92f0-7afb6bf05358",
   "metadata": {},
   "source": [
    "## 3 - Find the pointer tip position btip on the object coordinate system by using the following least-squares method. "
   ]
  },
  {
   "cell_type": "code",
   "execution_count": 5,
   "id": "edc7b925-28f7-4f3c-b933-dc2e7220701b",
   "metadata": {},
   "outputs": [],
   "source": [
    "# Lucas - 2024/01/16\n",
    "# Define the operation to solve the linear system using least squared method\n",
    "# Based on: \n",
    "def solve_for_b_tip_and_b_post(rotation_matrices, translation_vectors):\n",
    "    \"\"\"\n",
    "    Solve for the pointer tip position and the post postition in the object coordinate \n",
    "    system using least squares.\n",
    "\n",
    "    \"\"\"\n",
    "    num_frames = len(rotation_matrices)\n",
    "    A = np.empty((0, 6))  # 6 = 3 for b_tip + 3 for b_post\n",
    "    b = np.empty((0, 1))\n",
    "    \n",
    "    for k in range(num_frames):\n",
    "        # Construct the problem matrix formulation as instructed in the assignemtn\n",
    "        # [R -I] [b_tip b_post] =~ [-t]\n",
    "        Rk = rotation_matrices[k]\n",
    "        tk = translation_vectors[k]\n",
    "        A_k = np.hstack([Rk, -np.eye(3)]) # Stack the rotation and - Identity\n",
    "        b_k = -tk.reshape((3, 1))  # Convert to column vector\n",
    "        A = np.vstack([A, A_k])\n",
    "        b = np.vstack([b, b_k])\n",
    "  \n",
    "    # Solving the least squares problem\n",
    "    # Based on: https://numpy.org/doc/stable/reference/generated/numpy.linalg.lstsq.html\n",
    "    x, residuals, rank, s = np.linalg.lstsq(A, b, rcond=None)\n",
    "    b_tip = x[:3]  # The first three elements correspond to b_tip\n",
    "    b_post = x[3:]  # The last three elements correspond to b_post\n",
    "\n",
    "    return b_tip, b_post"
   ]
  },
  {
   "cell_type": "code",
   "execution_count": 6,
   "id": "d17f247c-5c7d-4db8-a55b-37fed9e21f04",
   "metadata": {},
   "outputs": [
    {
     "name": "stdout",
     "output_type": "stream",
     "text": [
      "Pointer Tip Position in Object Coordinate System: [  50.00000015   50.00000013 -199.99999974]\n",
      "Post position: [5.00000000e+02 5.00000000e+02 2.74105102e-07]\n"
     ]
    }
   ],
   "source": [
    "# Lucas - 2024/01/16\n",
    "# Get the estimation for b_tip\n",
    "b_tip, b_post = solve_for_b_tip_and_b_post(rotation_matrices, translation_vectors)\n",
    "print(\"Pointer Tip Position in Object Coordinate System:\", b_tip.ravel())\n",
    "print(\"Post position:\", b_post.ravel())"
   ]
  },
  {
   "cell_type": "markdown",
   "id": "42fd85cc-334b-4bc2-b323-855296322eac",
   "metadata": {},
   "source": [
    "## 4 - Apply the same algorithm on all the given measurement data files, and check the estimation error of btip when Aj,k contains measurement errors (0.1 mm and 1.0 mm) or when the pivot angle (the range of angles at which the pointer probe is moved) varied."
   ]
  },
  {
   "cell_type": "code",
   "execution_count": 7,
   "id": "cb30a5a4-eb61-4077-af01-79dfda7b2c1d",
   "metadata": {},
   "outputs": [
    {
     "name": "stdout",
     "output_type": "stream",
     "text": [
      "Estimation error for ../Assignment3/pa1-1-tracker-30.txt with pivot angle 30° / 0mm / 4 leds: 3.718414880344321e-07\n",
      "Estimation error for ../Assignment3/pa1-1-tracker-05.txt with pivot angle 5° / 0mm / 4 leds: 3.245652591557124e-07\n",
      "Estimation error for ../Assignment3/pa1-1-tracker-30-noisy1.txt with pivot angle 30° / 0.1mm / 4 leds: 0.07695651849335716\n",
      "Estimation error for ../Assignment3/pa1-1-tracker-05-noisy1.txt with pivot angle 5° / 0.1mm / 4 leds: 0.3967156171183092\n",
      "Estimation error for ../Assignment3/pa1-1-tracker-30-noisy2.txt with pivot angle 30° / 1mm / 4 leds: 0.33378009921156115\n",
      "Estimation error for ../Assignment3/pa1-1-tracker-05-noisy2.txt with pivot angle 5° / 1mm / 4 leds: 6.626655297117109\n"
     ]
    }
   ],
   "source": [
    "# Lucas - 2024/01/16\n",
    "# Ground_truth_b_tip is known and provided in file pa1-1-true-tip-post.txt\n",
    "ground_truth_b_tip = np.array([[50], [50], [-200]])  # Replace with actual ground truth values\n",
    "\n",
    "# List of files and their respective pivot angles, measurement error and num of leds\n",
    "files_with_info = [\n",
    "    {'file_path': '../Assignment3/pa1-1-tracker-30.txt', 'pivot_angle': 30, 'measurement_error': '0mm', 'num_leds': 4},\n",
    "    {'file_path': '../Assignment3/pa1-1-tracker-05.txt', 'pivot_angle': 5, 'measurement_error': '0mm', 'num_leds': 4},\n",
    "    {'file_path': '../Assignment3/pa1-1-tracker-30-noisy1.txt', 'pivot_angle': 30, 'measurement_error': '0.1mm', 'num_leds': 4},\n",
    "    {'file_path': '../Assignment3/pa1-1-tracker-05-noisy1.txt', 'pivot_angle': 5, 'measurement_error': '0.1mm', 'num_leds': 4},\n",
    "    {'file_path': '../Assignment3/pa1-1-tracker-30-noisy2.txt', 'pivot_angle': 30, 'measurement_error': '1mm', 'num_leds': 4},\n",
    "    {'file_path': '../Assignment3/pa1-1-tracker-05-noisy2.txt', 'pivot_angle': 5, 'measurement_error': '1mm', 'num_leds': 4},\n",
    "]\n",
    "\n",
    "# Lucas - 2024/01/16\n",
    "# Iterate over the files and perform the calculation of b_tip (estimate)\n",
    "for file_info in files_with_info:\n",
    "    file_path = file_info['file_path']\n",
    "    pivot_angle = file_info['pivot_angle']\n",
    "    measurement_error = file_info['measurement_error']\n",
    "    num_leds = file_info['num_leds']\n",
    "    \n",
    "    if os.path.exists(file_path):\n",
    "        # Read the data from the file\n",
    "        frames = read_marker_data(file_path)\n",
    "\n",
    "        # Calculate rotation matrices and translation vectors\n",
    "        rotation_matrices, translation_vectors = calculate_rk_tk(frames)\n",
    "        \n",
    "        # Solve for b_tip and b_post\n",
    "        b_tip, b_post = solve_for_b_tip_and_b_post(rotation_matrices, translation_vectors)\n",
    "        \n",
    "        # Calculate the estimation error\n",
    "        error = np.linalg.norm(b_tip - ground_truth_b_tip)\n",
    "\n",
    "        print(f\"Estimation error for {file_path} with pivot angle {pivot_angle}° / {measurement_error} / {num_leds} leds: {error}\")\n",
    "    else:\n",
    "        print(f\"File {file_path} does not exist.\")"
   ]
  },
  {
   "cell_type": "markdown",
   "id": "cb4792d9-97e6-408e-addd-4af2a2746c15",
   "metadata": {},
   "source": [
    "# Exercise 3.2: Practical pivot calibration"
   ]
  },
  {
   "cell_type": "markdown",
   "id": "e4e43d72-d9be-4a7c-b444-bbe6d24dede9",
   "metadata": {},
   "source": [
    "## 1 - Implement and algorithm for aligning 3D point cloud with known correspondence. "
   ]
  },
  {
   "cell_type": "code",
   "execution_count": 8,
   "id": "aa9ecabb-9b67-4f77-afef-bfca54a8b0c3",
   "metadata": {},
   "outputs": [],
   "source": [
    "# Lucas - 2024/01/16\n",
    "# Read the pj data, it is comma separated (different from previous loaded data - spaced separated)\n",
    "def read_pj_data(file_path):\n",
    "    \"\"\"\n",
    "    Read the LED marker positions (Pj) data from the file.\n",
    "\n",
    "    \"\"\"\n",
    "    with open(file_path, 'r') as file:\n",
    "        lines = file.readlines()[1:]  # skip header\n",
    "    \n",
    "    # Each line has the coords separated by comma\n",
    "    data = np.array([list(map(float, line.split(','))) for line in lines])\n",
    "    return data\n",
    "\n",
    "# Lucas - 2024/01/16\n",
    "# Compute quaternion method to align two sets of data\n",
    "# Also returns the rotation and translation vector\n",
    "# Uses SVD\n",
    "# Based on: https://en.wikipedia.org/wiki/Point-set_registration and\n",
    "# https://www.cse.wustl.edu/~taoju/cse554/lectures/lect07_Alignment.pdf\n",
    "def align_point_sets_and_get_transformation(pj_data, aj_data):\n",
    "    \"\"\"\n",
    "    Align two sets of 3D points and get the transformation matrix and translation vector.\n",
    "\n",
    "    Args:\n",
    "        pj_data : Array of points in the object coordinate system\n",
    "        aj_data : Array of points in the camera coordinate system.\n",
    "\n",
    "    \"\"\"\n",
    "    \n",
    "    # Lucas - 2024/01/16\n",
    "    # Centering the data using centroids\n",
    "    centroid_pj = np.mean(pj_data, axis=0)\n",
    "    centroid_aj = np.mean(aj_data, axis=0)\n",
    "    pj_centered = pj_data - centroid_pj\n",
    "    aj_centered = aj_data - centroid_aj\n",
    "\n",
    "    # Constructing the correlation matrix\n",
    "    H = np.dot(pj_centered.T, aj_centered)\n",
    "\n",
    "    # Determining the optimal rotation\n",
    "    # Based on: https://numpy.org/doc/stable/reference/generated/numpy.linalg.svd.html\n",
    "    # https://www.askpython.com/python/examples/singular-value-decomposition\n",
    "    U, _, Vt = np.linalg.svd(H)\n",
    "    R_optimal = np.dot(Vt.T, U.T)\n",
    "    \n",
    "    # Based on: https://numpy.org/doc/stable/reference/generated/numpy.linalg.det.html\n",
    "    # https://www.cse.wustl.edu/~taoju/cse554/lectures/lect07_Alignment.pdf\n",
    "    if np.linalg.det(R_optimal) < 0:\n",
    "        Vt[-1, :] *= -1\n",
    "        R_optimal = np.dot(Vt.T, U.T)\n",
    "\n",
    "    # Applying the rotation\n",
    "    pj_aligned = np.dot(pj_centered, R_optimal.T) + centroid_aj\n",
    "    \n",
    "    # Translation vector is the difference in the centroids\n",
    "    t_vector = centroid_aj - np.dot(centroid_pj, R_optimal.T)\n",
    "    \n",
    "    return pj_aligned, R_optimal, t_vector"
   ]
  },
  {
   "cell_type": "markdown",
   "id": "54ba93bf-ad76-4d84-ad0b-d00a38e9c3ab",
   "metadata": {},
   "source": [
    "## 2. Calculate the position [Rk, tk] (i.e., object coordinate system with respect to the camera coordinate system) by aligning the positions (A1, A2, ..., AN) and (P1, P2, ..., PN) (i.e., find the coordinate transformation [R, t] that satisfy Aj = [[R  t] [0 0]] . Pj for all j)."
   ]
  },
  {
   "cell_type": "code",
   "execution_count": 9,
   "id": "9a37a9bf-ba59-4f79-bb41-3f2d1f23399d",
   "metadata": {},
   "outputs": [
    {
     "name": "stdout",
     "output_type": "stream",
     "text": [
      "Estimation error for ../Assignment3/pa1-2-tracker-30.txt with pivot angle 30° / 0mm / 20 leds: 4.3088763400644297e-07\n",
      "Estimation error for ../Assignment3/pa1-2-tracker-05.txt with pivot angle 5° / 0mm / 20 leds: 3.7046361133282515e-07\n",
      "Estimation error for ../Assignment3/pa1-2-tracker-30-noisy1.txt with pivot angle 30° / 0.1mm / 20 leds: 0.030385054399893682\n",
      "Estimation error for ../Assignment3/pa1-2-tracker-05-noisy1.txt with pivot angle 5° / 0.1mm / 20 leds: 0.013322634170980454\n",
      "Estimation error for ../Assignment3/pa1-2-tracker-30-noisy2.txt with pivot angle 30° / 1mm / 20 leds: 0.21969493929721903\n",
      "Estimation error for ../Assignment3/pa1-2-tracker-05-noisy2.txt with pivot angle 5° / 1mm / 20 leds: 0.3826045488251913\n"
     ]
    }
   ],
   "source": [
    "# Lucas - 2024/01/16\n",
    "# Now:\n",
    "    # 1 - go over the files\n",
    "    # 2 - align aj and pj, recovering Rk and tk\n",
    "    # 3 - use R and t to estimate the tip position\n",
    "    # 4 - compute the error given the ground truth value\n",
    "\n",
    "# List of files and their respective pivot angles, measuremnt error and num of leds\n",
    "files_with_info = [\n",
    "    {'file_path': '../Assignment3/pa1-2-tracker-30.txt', 'pivot_angle': 30, 'measurement_error': '0mm', 'num_leds': 20},\n",
    "    {'file_path': '../Assignment3/pa1-2-tracker-05.txt', 'pivot_angle': 5, 'measurement_error': '0mm', 'num_leds': 20},\n",
    "    {'file_path': '../Assignment3/pa1-2-tracker-30-noisy1.txt', 'pivot_angle': 30, 'measurement_error': '0.1mm', 'num_leds': 20},\n",
    "    {'file_path': '../Assignment3/pa1-2-tracker-05-noisy1.txt', 'pivot_angle': 5, 'measurement_error': '0.1mm', 'num_leds': 20},\n",
    "    {'file_path': '../Assignment3/pa1-2-tracker-30-noisy2.txt', 'pivot_angle': 30, 'measurement_error': '1mm', 'num_leds': 20},\n",
    "    {'file_path': '../Assignment3/pa1-2-tracker-05-noisy2.txt', 'pivot_angle': 5, 'measurement_error': '1mm', 'num_leds': 20},\n",
    "]\n",
    "\n",
    "# Iterate over files and compute the error\n",
    "for file_info in files_with_info:\n",
    "    aj_data_path = file_info['file_path']\n",
    "    pivot_angle = file_info['pivot_angle']\n",
    "    measurement_error = file_info['measurement_error']\n",
    "    num_leds = file_info['num_leds']\n",
    "    \n",
    "    if os.path.exists(file_path):\n",
    "    \n",
    "        pj_data_path = '../Assignment3/pa1-2-pointer-probe.txt' # static data, provided in txt file\n",
    "        pj_data = read_pj_data(pj_data_path)\n",
    "        \n",
    "        aj_data = read_marker_data(aj_data_path, num_leds_per_frame=20) # each of the reference txt files\n",
    "    \n",
    "        ground_truth_b_tip = np.array([[0], [0], [-200]]) # provided in txt file\n",
    "    \n",
    "        # Align each frame in aj_data with pj_data\n",
    "        pj_aligned_list, R_list, t_list = [], [], []\n",
    "        for aj_frame in aj_data:\n",
    "            pj_aligned, R, t = align_point_sets_and_get_transformation(pj_data, aj_frame) # pj_data is static\n",
    "            pj_aligned_list.append(pj_aligned)\n",
    "            R_list.append(R)\n",
    "            t_list.append(t)\n",
    "        \n",
    "        # estimate the tip position\n",
    "        estimated_b_tip, _ = solve_for_b_tip_and_b_post(R_list, t_list)\n",
    "\n",
    "        # compute the error\n",
    "        # based on: https://numpy.org/doc/stable/reference/generated/numpy.linalg.norm.html\n",
    "        error = np.linalg.norm(estimated_b_tip - ground_truth_b_tip)\n",
    "        print(f\"Estimation error for {aj_data_path} with pivot angle {pivot_angle}° / {measurement_error} / {num_leds} leds: {error}\")\n",
    "    \n",
    "    else:\n",
    "        print(f\"File {file_path} does not exist.\")"
   ]
  }
 ],
 "metadata": {
  "kernelspec": {
   "display_name": "kernel-tajigenshingo",
   "language": "python",
   "name": "kernel-tajigenshingo"
  },
  "language_info": {
   "codemirror_mode": {
    "name": "ipython",
    "version": 3
   },
   "file_extension": ".py",
   "mimetype": "text/x-python",
   "name": "python",
   "nbconvert_exporter": "python",
   "pygments_lexer": "ipython3",
   "version": "3.11.6"
  }
 },
 "nbformat": 4,
 "nbformat_minor": 5
}
